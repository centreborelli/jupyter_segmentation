{
 "cells": [
  {
   "cell_type": "code",
   "execution_count": 1,
   "id": "d015e264",
   "metadata": {},
   "outputs": [
    {
     "name": "stdout",
     "output_type": "stream",
     "text": [
      "ipyfan.ritm.isegm.model.is_hrnet_model\n",
      "torch.nn.modules.batchnorm\n"
     ]
    }
   ],
   "source": [
    "import ipyfan\n",
    "from ipyfan.utils import norm_fn, rgba2rgb\n",
    "import numpy as np\n",
    "import ipywidgets as widgets\n",
    "import glob\n",
    "from pathlib import Path\n",
    "import os\n",
    "import shutil\n",
    "import matplotlib.pyplot as plt\n",
    "from ipyfan.iis_model import ritm_model as iis_model  # AI\n",
    "from solarium import read_panel_image, load_series"
   ]
  },
  {
   "cell_type": "code",
   "execution_count": 2,
   "id": "3cae6f1f",
   "metadata": {},
   "outputs": [
    {
     "name": "stdout",
     "output_type": "stream",
     "text": [
      "['roseland_i_and_ii.zip', 'bluebell_ii.zip', 'bluebell_ii', 'holstein_1_solar_farm.zip', 'phoebe.zip', 'grizzly_ridge.zip']\n",
      "selected location holstein_1_solar_farm.zip\n"
     ]
    }
   ],
   "source": [
    "loc_ind = 3\n",
    "# rm ann dir\n",
    "shutil.rmtree(\"figs/annotations\", ignore_errors=True)\n",
    "data_dir = \"/home/franchesoni/data/kayrros/solar/\"\n",
    "locations = os.listdir(data_dir)\n",
    "print(locations)\n",
    "print(\"selected location\", locations[loc_ind])\n",
    "site_zip_Path = Path(data_dir) / locations[loc_ind]\n",
    "series = load_series(site_zip_Path, outdir='figs')[0]\n",
    "num_dates = len(series['B02'])"
   ]
  },
  {
   "cell_type": "code",
   "execution_count": 3,
   "id": "11134734",
   "metadata": {},
   "outputs": [],
   "source": [
    "validate_button = widgets.Button(\n",
    "    description='Validate',\n",
    "    disabled=False)\n",
    "previous_button = widgets.Button(\n",
    "    description='Previous',\n",
    "    disabled=False)\n",
    "progress = widgets.IntProgress(\n",
    "    value=0,\n",
    "    min=0,\n",
    "    max=num_dates-1,\n",
    "    description='Progress:',\n",
    "    bar_style='', # 'success', 'info', 'warning', 'danger' or ''\n",
    "    style={'bar_color': 'black'},\n",
    "    orientation='horizontal'\n",
    ")\n",
    "\n",
    "def validate(b):\n",
    "    global w\n",
    "    out_path = Path('figs') / 'annotations' / ('date_' + str(progress.value) + '_annotation.png')\n",
    "    out_path.parent.mkdir(exist_ok=True, parents=True)\n",
    "\n",
    "    if np.sum(w.annI[..., :3]) > 0:  # only save if something was masked\n",
    "        plt.imsave(str(out_path), w.annI)\n",
    "    else:\n",
    "        # Annotation is empty, delete the corresponding file if it exists\n",
    "        if os.path.exists(out_path):\n",
    "            os.remove(out_path)\n",
    "\n",
    "    progress.value += 1\n",
    "\n",
    "    global curr_im\n",
    "    global feats\n",
    "    feats, curr_im = read_panel_image(site_zip_Path, progress.value, normalize=True)\n",
    "    ann_path_curr = Path('figs') / 'annotations' / ('date_' + str(progress.value) + '_annotation.png')\n",
    "    if os.path.exists(ann_path_curr):\n",
    "        annotation = plt.imread(ann_path_curr)\n",
    "    elif os.path.exists(out_path):\n",
    "        annotation = plt.imread(out_path)\n",
    "    else:\n",
    "        annotation = None\n",
    "        \n",
    "    w.reset()\n",
    "    w.set_image(curr_im, annotation, feats)\n",
    "\n",
    "def previous(b):\n",
    "    global w\n",
    "    progress.value -= 1\n",
    "\n",
    "    global curr_im\n",
    "    global feats\n",
    "    feats, curr_im = read_panel_image(site_zip_Path, progress.value, normalize=True)\n",
    "    ann_path_curr = Path('figs') / 'annotations' / ('date_' + str(progress.value) + '_annotation.png')\n",
    "    if os.path.exists(ann_path_curr):\n",
    "        annotation = plt.imread(ann_path_curr)\n",
    "    elif os.path.exists(out_path):\n",
    "        annotation = plt.imread(out_path)\n",
    "    else:\n",
    "        annotation = None\n",
    "    w.reset()\n",
    "    w.set_image(curr_im, annotation, feats)\n",
    "\n",
    "validate_button.on_click(validate)\n",
    "previous_button.on_click(previous)"
   ]
  },
  {
   "cell_type": "code",
   "execution_count": 4,
   "id": "6b02e95b",
   "metadata": {
    "scrolled": false
   },
   "outputs": [
    {
     "name": "stderr",
     "output_type": "stream",
     "text": [
      "/home/franchesoni/mine/creations/phd/projects/current/jupyter_segmentation_dev/env_ipyfan/lib/python3.10/site-packages/traittypes/traittypes.py:97: UserWarning: Given trait value dtype \"float64\" does not match required type \"uint8\". A coerced copy has been created.\n",
      "  warnings.warn(\n"
     ]
    },
    {
     "data": {
      "application/vnd.jupyter.widget-view+json": {
       "model_id": "ba64c584feb74bea877ae77c658dd3bd",
       "version_major": 2,
       "version_minor": 0
      },
      "text/plain": [
       "VBox(children=(HBox(children=(segmenter(annI=array([[[0, 0, 0, 0],\n",
       "        [0, 0, 0, 0],\n",
       "        [0, 0, 0, 0],…"
      ]
     },
     "metadata": {},
     "output_type": "display_data"
    }
   ],
   "source": [
    "feats, curr_im = read_panel_image(site_zip_Path, progress.value, normalize=True)\n",
    "s = ipyfan.FullSegmenter(iis_model, curr_im, curr_ref=None, feats=feats, layout_size=500)\n",
    "w = s.w  # this is how we access internal variables\n",
    "widgets.VBox([s.get_widget(), widgets.HBox([validate_button, previous_button, progress])])"
   ]
  },
  {
   "cell_type": "code",
   "execution_count": null,
   "id": "20a56bad",
   "metadata": {},
   "outputs": [],
   "source": []
  }
 ],
 "metadata": {
  "kernelspec": {
   "display_name": "Python 3 (ipykernel)",
   "language": "python",
   "name": "python3"
  },
  "language_info": {
   "codemirror_mode": {
    "name": "ipython",
    "version": 3
   },
   "file_extension": ".py",
   "mimetype": "text/x-python",
   "name": "python",
   "nbconvert_exporter": "python",
   "pygments_lexer": "ipython3",
   "version": "3.10.4"
  },
  "vscode": {
   "interpreter": {
    "hash": "42388f7ab4fe0013d92e4bae78f50d8d57b256b9e7265eb314f1498e7ac6ae7f"
   }
  }
 },
 "nbformat": 4,
 "nbformat_minor": 5
}
