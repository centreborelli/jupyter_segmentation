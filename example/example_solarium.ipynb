{
 "cells": [
  {
   "cell_type": "code",
   "execution_count": 1,
   "id": "d015e264",
   "metadata": {},
   "outputs": [
    {
     "name": "stdout",
     "output_type": "stream",
     "text": [
      "ipyfan.ritm.isegm.model.is_hrnet_model\n",
      "torch.nn.modules.batchnorm\n"
     ]
    }
   ],
   "source": [
    "import ipyfan\n",
    "from ipyfan.utils import norm_fn, rgba2rgb\n",
    "import numpy as np\n",
    "import ipywidgets as widgets\n",
    "import glob\n",
    "from pathlib import Path\n",
    "import os\n",
    "import matplotlib.pyplot as plt\n",
    "from ipyfan.iis_model import ritm_model as iis_model  # AI\n",
    "from solarium import read_panel_image, load_series"
   ]
  },
  {
   "cell_type": "code",
   "execution_count": 2,
   "id": "3cae6f1f",
   "metadata": {},
   "outputs": [],
   "source": [
    "site_zip_Path = Path(\"/home/franchesoni/mine/creations/phd/material/data/kayrros/solarium/titan.zip\")\n",
    "series = load_series(site_zip_Path, outdir='figs')[0]\n",
    "num_dates = len(series['B02'])"
   ]
  },
  {
   "cell_type": "code",
   "execution_count": 3,
   "id": "11134734",
   "metadata": {},
   "outputs": [],
   "source": [
    "validate_button = widgets.Button(\n",
    "    description='Validate',\n",
    "    disabled=False)\n",
    "previous_button = widgets.Button(\n",
    "    description='Previous',\n",
    "    disabled=False)\n",
    "progress = widgets.IntProgress(\n",
    "    value=0,\n",
    "    min=0,\n",
    "    max=num_dates-1,\n",
    "    description='Progress:',\n",
    "    bar_style='', # 'success', 'info', 'warning', 'danger' or ''\n",
    "    style={'bar_color': 'black'},\n",
    "    orientation='horizontal'\n",
    ")\n",
    "\n",
    "def validate(b):\n",
    "    global w\n",
    "    out_path = Path('figs') / 'annotations' / ('date_' + str(progress.value) + '_annotation.png')\n",
    "    out_path.parent.mkdir(exist_ok=True, parents=True)\n",
    "\n",
    "    if np.sum(w.annI[..., :3]) > 0:  # only save if something was masked\n",
    "        plt.imsave(str(out_path), w.annI)\n",
    "    else:\n",
    "        # Annotation is empty, delete the corresponding file if it exists\n",
    "        if os.path.exists(out_path):\n",
    "            os.remove(out_path)\n",
    "\n",
    "    progress.value += 1\n",
    "\n",
    "    global curr_im\n",
    "    global feats\n",
    "    feats, curr_im = read_panel_image(site_zip_Path, progress.value, normalize=True)\n",
    "    w.reset()\n",
    "    w.set_image(curr_im, None, feats)\n",
    "\n",
    "def previous(b):\n",
    "    global w\n",
    "    progress.value -= 1\n",
    "\n",
    "    global curr_im\n",
    "    global feats\n",
    "    feats, curr_im = read_panel_image(site_zip_Path, progress.value, normalize=True)\n",
    "    w.reset()\n",
    "    w.set_image(curr_im, None, feats)\n",
    "\n",
    "validate_button.on_click(validate)\n",
    "previous_button.on_click(previous)"
   ]
  },
  {
   "cell_type": "code",
   "execution_count": 4,
   "id": "6b02e95b",
   "metadata": {
    "scrolled": false
   },
   "outputs": [
    {
     "data": {
      "application/vnd.jupyter.widget-view+json": {
       "model_id": "c05acb8e3f0a49f690df27bdee8e0576",
       "version_major": 2,
       "version_minor": 0
      },
      "text/plain": [
       "VBox(children=(HBox(children=(segmenter(layout=Layout(height='500px', width='500px'), s_height=270.0, s_width=…"
      ]
     },
     "metadata": {},
     "output_type": "display_data"
    }
   ],
   "source": [
    "feats, curr_im = read_panel_image(site_zip_Path, progress.value, normalize=True)\n",
    "s = ipyfan.FullSegmenter(iis_model, curr_im, curr_ref=None, feats=feats)\n",
    "w = s.w  # this is how we access internal variables\n",
    "widgets.VBox([s.get_widget(), widgets.HBox([validate_button, previous_button, progress])])"
   ]
  },
  {
   "cell_type": "code",
   "execution_count": null,
   "id": "20a56bad",
   "metadata": {},
   "outputs": [],
   "source": []
  }
 ],
 "metadata": {
  "kernelspec": {
   "display_name": "Python 3 (ipykernel)",
   "language": "python",
   "name": "python3"
  },
  "language_info": {
   "codemirror_mode": {
    "name": "ipython",
    "version": 3
   },
   "file_extension": ".py",
   "mimetype": "text/x-python",
   "name": "python",
   "nbconvert_exporter": "python",
   "pygments_lexer": "ipython3",
   "version": "3.9.7"
  }
 },
 "nbformat": 4,
 "nbformat_minor": 5
}
