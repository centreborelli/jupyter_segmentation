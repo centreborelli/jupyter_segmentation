{
 "cells": [
  {
   "cell_type": "markdown",
   "id": "6ed1eca9",
   "metadata": {},
   "source": [
    "# Setup"
   ]
  },
  {
   "cell_type": "code",
   "execution_count": 2,
   "id": "e4954bbb",
   "metadata": {},
   "outputs": [
    {
     "name": "stdout",
     "output_type": "stream",
     "text": [
      "ipyfan.ritm.isegm.model.is_hrnet_model\n"
     ]
    },
    {
     "name": "stderr",
     "output_type": "stream",
     "text": [
      "/home/franchesoni/mine/creations/phd/projects/jupyter_segmentation/atry/ipyfan/env_ipyfan/lib/python3.10/site-packages/Cython/Compiler/Main.py:369: FutureWarning: Cython directive 'language_level' not set, using 2 for now (Py2). This will change in a later release! File: /home/franchesoni/mine/creations/phd/projects/jupyter_segmentation/atry/ipyfan/ipyfan/ritm/isegm/utils/cython/_get_dist_maps.pyx\n",
      "  tree = Parsing.p_module(s, pxd, full_module_name)\n",
      "In file included from /home/franchesoni/mine/creations/phd/projects/jupyter_segmentation/atry/ipyfan/env_ipyfan/lib/python3.10/site-packages/numpy/core/include/numpy/ndarraytypes.h:1948,\n",
      "                 from /home/franchesoni/mine/creations/phd/projects/jupyter_segmentation/atry/ipyfan/env_ipyfan/lib/python3.10/site-packages/numpy/core/include/numpy/ndarrayobject.h:12,\n",
      "                 from /home/franchesoni/mine/creations/phd/projects/jupyter_segmentation/atry/ipyfan/env_ipyfan/lib/python3.10/site-packages/numpy/core/include/numpy/arrayobject.h:5,\n",
      "                 from /home/franchesoni/.pyxbld/temp.linux-x86_64-3.10/pyrex/ipyfan/ritm/isegm/utils/cython/_get_dist_maps.cpp:712:\n",
      "/home/franchesoni/mine/creations/phd/projects/jupyter_segmentation/atry/ipyfan/env_ipyfan/lib/python3.10/site-packages/numpy/core/include/numpy/npy_1_7_deprecated_api.h:17:2: warning: #warning \"Using deprecated NumPy API, disable it with \" \"#define NPY_NO_DEPRECATED_API NPY_1_7_API_VERSION\" [-Wcpp]\n",
      "   17 | #warning \"Using deprecated NumPy API, disable it with \" \\\n",
      "      |  ^~~~~~~\n"
     ]
    },
    {
     "name": "stdout",
     "output_type": "stream",
     "text": [
      "torch.nn.modules.batchnorm\n"
     ]
    }
   ],
   "source": [
    "import ipyfan\n",
    "from ipyfan.utils import norm_fn, rgba2rgb\n",
    "import numpy as np\n",
    "import ipywidgets as widgets\n",
    "import glob\n",
    "import matplotlib.pyplot as plt\n",
    "from ipyfan.iis_model import ritm_model as iis_model  # load interactive segmentation model\n",
    "# iis_model = None  # or don't"
   ]
  },
  {
   "cell_type": "markdown",
   "id": "7c6fbf59",
   "metadata": {},
   "source": [
    "# Load your data"
   ]
  },
  {
   "cell_type": "code",
   "execution_count": 4,
   "id": "ce38a804",
   "metadata": {},
   "outputs": [
    {
     "name": "stdout",
     "output_type": "stream",
     "text": [
      "['figs/screen.png', 'figs/screen_small.png', 'figs/chairs.png', 'figs/obama.webp']\n"
     ]
    }
   ],
   "source": [
    "list_imgs = glob.glob('figs/*')\n",
    "out_folder = 'out/'\n",
    "labels_folder = 'labels/'\n",
    "\n",
    "print(list_imgs)\n",
    "img_ind = 2\n",
    "\n",
    "curr_im = (255*norm_fn(plt.imread(list_imgs[img_ind]))).astype(np.uint8)\n",
    "curr_ref=None"
   ]
  },
  {
   "cell_type": "markdown",
   "id": "85fe3fbe",
   "metadata": {},
   "source": [
    "# Config your buttons"
   ]
  },
  {
   "cell_type": "code",
   "execution_count": 6,
   "id": "78fd5c6e",
   "metadata": {},
   "outputs": [
    {
     "data": {
      "text/plain": [
       "<Figure size 432x288 with 0 Axes>"
      ]
     },
     "metadata": {},
     "output_type": "display_data"
    }
   ],
   "source": [
    "validate_button = widgets.Button(\n",
    "        description='Validate',\n",
    "        disabled=False)\n",
    "\n",
    "fig = plt.figure(1)\n",
    "def validate(b):\n",
    "    global w, fig\n",
    "    fig.add_subplot(1,1,1)\n",
    "    plt.imshow(w.annI[:, :, 0], interpolation='NEAREST')\n",
    "    w.reset()\n",
    "\n",
    "validate_button.on_click(validate)\n"
   ]
  },
  {
   "cell_type": "markdown",
   "id": "6eb298cf",
   "metadata": {},
   "source": [
    "# Put your buttons in a box with the segmenter and run!"
   ]
  },
  {
   "cell_type": "code",
   "execution_count": 8,
   "id": "da2d2683",
   "metadata": {
    "scrolled": false
   },
   "outputs": [
    {
     "data": {
      "application/vnd.jupyter.widget-view+json": {
       "model_id": "3ed750961d9345bd8bb6086232e8124c",
       "version_major": 2,
       "version_minor": 0
      },
      "text/plain": [
       "VBox(children=(HBox(children=(segmenter(layout=Layout(height='500px', width='500px')), VBox(children=(RadioBut…"
      ]
     },
     "metadata": {},
     "output_type": "display_data"
    },
    {
     "data": {
      "image/png": "[encoded data removed]",
      "text/plain": [
       "<Figure size 432x288 with 1 Axes>"
      ]
     },
     "metadata": {
      "needs_background": "light"
     },
     "output_type": "display_data"
    }
   ],
   "source": [
    "layout_size = 400\n",
    "# s = ipyfan.FullSegmenter(curr_im, curr_ref, layout_size, iis_model)\n",
    "s = ipyfan.FullSegmenter(iis_model, curr_im, curr_ref)\n",
    "w = s.w  # this is how we access internal variables\n",
    "widgets.VBox([s.get_widget(), validate_button])"
   ]
  }
 ],
 "metadata": {
  "interpreter": {
   "hash": "6882df8b37ed774b55e4897ea6652f08e778c2d7b36139c6bbc3cec9a3ce43ff"
  },
  "kernelspec": {
   "display_name": "Python 3 (ipykernel)",
   "language": "python",
   "name": "python3"
  },
  "language_info": {
   "codemirror_mode": {
    "name": "ipython",
    "version": 3
   },
   "file_extension": ".py",
   "mimetype": "text/x-python",
   "name": "python",
   "nbconvert_exporter": "python",
   "pygments_lexer": "ipython3",
   "version": "3.10.4"
  }
 },
 "nbformat": 4,
 "nbformat_minor": 5
}
