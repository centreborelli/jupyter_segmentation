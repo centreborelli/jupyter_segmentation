{
 "cells": [
  {
   "cell_type": "markdown",
   "id": "6ed1eca9",
   "metadata": {},
   "source": [
    "# Setup"
   ]
  },
  {
   "cell_type": "code",
   "execution_count": 1,
   "id": "e4954bbb",
   "metadata": {},
   "outputs": [
    {
     "name": "stdout",
     "output_type": "stream",
     "text": [
      "ipyfan.ritm.isegm.model.is_hrnet_model\n",
      "torch.nn.modules.batchnorm\n"
     ]
    },
    {
     "name": "stderr",
     "output_type": "stream",
     "text": [
      "Using cache found in /home/franchesoni/.cache/torch/hub/facebookresearch_dino_main\n"
     ]
    }
   ],
   "source": [
    "import ipyfan\n",
    "from ipyfan.utils import norm_fn, rgba2rgb\n",
    "import numpy as np\n",
    "import ipywidgets as widgets\n",
    "import glob\n",
    "import matplotlib.pyplot as plt\n",
    "from ipyfan.iis_model import ritm_model as iis_model  # load interactive segmentation model\n",
    "# iis_model = None  # or don't\n",
    "# from ipyfan.dino_feats import get_dino_feats  # DINO features are slow and experimental"
   ]
  },
  {
   "cell_type": "markdown",
   "id": "7c6fbf59",
   "metadata": {},
   "source": [
    "# Load your data"
   ]
  },
  {
   "cell_type": "code",
   "execution_count": 6,
   "id": "ce38a804",
   "metadata": {},
   "outputs": [
    {
     "name": "stdout",
     "output_type": "stream",
     "text": [
      "['spatial_image', 'figs/gradient.jpg', 'figs/screen_small.png', 'figs/chairs.png', 'figs/phoebe', 'figs/concho.png', 'figs/concho_valley', 'figs/obama.webp']\n",
      "[INFO] Spectral file loading done.\n",
      "[INFO] RGB file loading done.\n"
     ]
    }
   ],
   "source": [
    "list_imgs = glob.glob('figs/*')\n",
    "out_folder = 'out/'\n",
    "labels_folder = 'labels/'\n",
    "\n",
    "print(['spatial_image'] + list_imgs)\n",
    "\n",
    "rr = np.arange(255).reshape(1, 255) + np.zeros((255, 1))\n",
    "gg = np.arange(255).reshape(255, 1) + np.zeros((1, 255))\n",
    "bb = np.zeros((255, 255))\n",
    "spatial_img = np.stack([rr, gg, bb], axis=2).astype(np.uint8)\n",
    "# plt.imshow(img)\n",
    "\n",
    "img_ind = 1\n",
    "if img_ind > 1:\n",
    "    curr_im = (255*norm_fn(plt.imread(list_imgs[img_ind]))).astype(np.uint8)\n",
    "    feats = None\n",
    "elif img_ind == 0:\n",
    "    curr_im = spatial_img\n",
    "    feats = None\n",
    "elif img_ind == 1:\n",
    "    from solarium import read_panel_image\n",
    "    date_index = 7\n",
    "    site_zip_path = \"/home/franchesoni/mine/creations/phd/material/data/kayrros/solarium/concho_valley.zip\"\n",
    "    ms_img, rgb_img = read_panel_image(site_zip_path, date_index, normalize=True)\n",
    "    curr_im = rgb_img\n",
    "    feats = ms_img\n",
    "    \n",
    "curr_ref=None"
   ]
  },
  {
   "cell_type": "code",
   "execution_count": 3,
   "id": "3c9602ed",
   "metadata": {},
   "outputs": [],
   "source": [
    "# feats = get_dino_feats(curr_im, 25)\n",
    "# norm_fn = lambda x: (x - x.min()) / (x.max() - x.min())\n",
    "# ind = 17\n",
    "# plt.imshow(norm_fn(feats[..., ind*3:(ind+1)*3])); plt.axis('off')"
   ]
  },
  {
   "cell_type": "markdown",
   "id": "85fe3fbe",
   "metadata": {},
   "source": [
    "# Config your buttons"
   ]
  },
  {
   "cell_type": "code",
   "execution_count": 4,
   "id": "78fd5c6e",
   "metadata": {},
   "outputs": [
    {
     "data": {
      "text/plain": [
       "<Figure size 432x288 with 0 Axes>"
      ]
     },
     "metadata": {},
     "output_type": "display_data"
    }
   ],
   "source": [
    "validate_button = widgets.Button(\n",
    "        description='Validate',\n",
    "        disabled=False)\n",
    "\n",
    "fig = plt.figure(1)\n",
    "def validate(b):\n",
    "    global w, fig\n",
    "    fig.add_subplot(1,1,1)\n",
    "    plt.imshow(w.annI[:, :, 0], interpolation='NEAREST')\n",
    "    w.reset()\n",
    "\n",
    "validate_button.on_click(validate)\n"
   ]
  },
  {
   "cell_type": "markdown",
   "id": "6eb298cf",
   "metadata": {},
   "source": [
    "# Put your buttons in a box with the segmenter and run!"
   ]
  },
  {
   "cell_type": "code",
   "execution_count": 5,
   "id": "da2d2683",
   "metadata": {
    "scrolled": false
   },
   "outputs": [
    {
     "data": {
      "application/vnd.jupyter.widget-view+json": {
       "model_id": "05a45477ce5e4009892b18567645bd2c",
       "version_major": 2,
       "version_minor": 0
      },
      "text/plain": [
       "VBox(children=(HBox(children=(segmenter(layout=Layout(height='500px', width='500px'), s_height=474.0, s_width=…"
      ]
     },
     "metadata": {},
     "output_type": "display_data"
    }
   ],
   "source": [
    "s = ipyfan.FullSegmenter(iis_model, curr_im, curr_ref, feats=feats)\n",
    "w = s.w  # this is how we access internal variables\n",
    "widgets.VBox([s.get_widget(), validate_button])"
   ]
  },
  {
   "cell_type": "code",
   "execution_count": null,
   "id": "488c27ee",
   "metadata": {},
   "outputs": [],
   "source": []
  }
 ],
 "metadata": {
  "interpreter": {
   "hash": "6882df8b37ed774b55e4897ea6652f08e778c2d7b36139c6bbc3cec9a3ce43ff"
  },
  "kernelspec": {
   "display_name": "Python 3 (ipykernel)",
   "language": "python",
   "name": "python3"
  },
  "language_info": {
   "codemirror_mode": {
    "name": "ipython",
    "version": 3
   },
   "file_extension": ".py",
   "mimetype": "text/x-python",
   "name": "python",
   "nbconvert_exporter": "python",
   "pygments_lexer": "ipython3",
   "version": "3.9.7"
  }
 },
 "nbformat": 4,
 "nbformat_minor": 5
}
