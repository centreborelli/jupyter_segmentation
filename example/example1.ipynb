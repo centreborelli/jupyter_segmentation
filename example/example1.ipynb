{
 "cells": [
  {
   "cell_type": "code",
   "execution_count": 1,
   "id": "e4954bbb",
   "metadata": {},
   "outputs": [
    {
     "name": "stdout",
     "output_type": "stream",
     "text": [
      "modifying input layer\n"
     ]
    }
   ],
   "source": [
    "import ipyfan\n",
    "from ipyfan.utils import norm_fn, rgba2rgb\n",
    "import numpy as np\n",
    "import ipywidgets as widgets\n",
    "import glob\n",
    "import os\n",
    "import matplotlib.pyplot as plt\n",
    "from ipyfan.iis_model import ritm_model as iis_model  # AI"
   ]
  },
  {
   "cell_type": "code",
   "execution_count": 2,
   "id": "ce38a804",
   "metadata": {},
   "outputs": [
    {
     "name": "stdout",
     "output_type": "stream",
     "text": [
      "['figs/screen.png', 'figs/screen_small.png', 'figs/chairs.png', 'figs/obama.webp']\n"
     ]
    }
   ],
   "source": [
    "list_imgs = glob.glob('figs/*')\n",
    "out_folder = 'out/'\n",
    "labels_folder = 'labels/'\n",
    "print(list_imgs)\n",
    "img_ind = 3\n",
    "\n",
    "curr_im = (255*norm_fn(plt.imread(list_imgs[img_ind]))).astype(np.uint8)\n",
    "# Create an orange mask corresponding to the reference label\n",
    "# curr_ref = np.stack((255*np.ones(curr_im[..., 0].shape), 100*np.ones(curr_im[..., 0].shape), 0*np.ones(curr_im[..., 0].shape), 255*np.ones(curr_im[..., 0].shape)), axis=2) * (255 * plt.imread(labels_folder + os.path.basename(list_imgs[img_ind]))).astype(np.uint8)[..., None] /255.\n",
    "curr_ref=None"
   ]
  },
  {
   "cell_type": "code",
   "execution_count": 3,
   "id": "78fd5c6e",
   "metadata": {},
   "outputs": [
    {
     "data": {
      "text/plain": [
       "<Figure size 432x288 with 0 Axes>"
      ]
     },
     "metadata": {},
     "output_type": "display_data"
    }
   ],
   "source": [
    "validate_button = widgets.Button(\n",
    "        description='Validate',\n",
    "        disabled=False)\n",
    "\n",
    "fig = plt.figure(1)\n",
    "def validate(b):\n",
    "    global w, fig\n",
    "    fig.add_subplot(1,1,1)\n",
    "    plt.imshow(w.annI[:, :, 0], interpolation='NEAREST')\n",
    "    w.reset()\n",
    "\n",
    "validate_button.on_click(validate)\n"
   ]
  },
  {
   "cell_type": "code",
   "execution_count": 4,
   "id": "da2d2683",
   "metadata": {
    "scrolled": false
   },
   "outputs": [
    {
     "data": {
      "application/vnd.jupyter.widget-view+json": {
       "model_id": "64ad2130556d4d03bb9bfd25a6b81760",
       "version_major": 2,
       "version_minor": 0
      },
      "text/plain": [
       "VBox(children=(HBox(children=(segmenter(layout=Layout(height='500px', width='500px')), VBox(children=(RadioBut…"
      ]
     },
     "metadata": {},
     "output_type": "display_data"
    }
   ],
   "source": [
    "# iis_model = None\n",
    "layout_size = 400\n",
    "# s = ipyfan.FullSegmenter(curr_im, curr_ref, layout_size, iis_model)\n",
    "s = ipyfan.FullSegmenter(iis_model, curr_im, curr_ref)\n",
    "w = s.w  # to access internal variables\n",
    "widgets.VBox([s.get_widget(), validate_button])"
   ]
  },
  {
   "cell_type": "code",
   "execution_count": 5,
   "id": "62faf3c7",
   "metadata": {},
   "outputs": [
    {
     "data": {
      "text/plain": [
       "<matplotlib.image.AxesImage at 0x7f566886f670>"
      ]
     },
     "execution_count": 5,
     "metadata": {},
     "output_type": "execute_result"
    },
    {
     "data": {
      "image/png": "[encoded data removed]",
      "text/plain": [
       "<Figure size 432x288 with 1 Axes>"
      ]
     },
     "metadata": {
      "needs_background": "light"
     },
     "output_type": "display_data"
    }
   ],
   "source": [
    "plt.imshow(w.propL[..., 0])"
   ]
  }
 ],
 "metadata": {
  "interpreter": {
   "hash": "6882df8b37ed774b55e4897ea6652f08e778c2d7b36139c6bbc3cec9a3ce43ff"
  },
  "kernelspec": {
   "display_name": "Python 3 (ipykernel)",
   "language": "python",
   "name": "python3"
  },
  "language_info": {
   "codemirror_mode": {
    "name": "ipython",
    "version": 3
   },
   "file_extension": ".py",
   "mimetype": "text/x-python",
   "name": "python",
   "nbconvert_exporter": "python",
   "pygments_lexer": "ipython3",
   "version": "3.9.12"
  }
 },
 "nbformat": 4,
 "nbformat_minor": 5
}
